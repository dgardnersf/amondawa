{
 "metadata": {
  "name": ""
 },
 "nbformat": 3,
 "nbformat_minor": 0,
 "worksheets": [
  {
   "cells": [
    {
     "cell_type": "markdown",
     "metadata": {
      "slideshow": {
       "slide_type": "slide"
      }
     },
     "source": [
      "#![cloud](files/icons/General/AWSCloud.svg) Hello Amazon Cloud! (Boto Style)"
     ]
    },
    {
     "cell_type": "markdown",
     "metadata": {},
     "source": [
      "##0. Prerequisites"
     ]
    },
    {
     "cell_type": "code",
     "collapsed": false,
     "input": [
      "ls -l ~/.boto"
     ],
     "language": "python",
     "metadata": {},
     "outputs": []
    },
    {
     "cell_type": "code",
     "collapsed": false,
     "input": [
      "%%bash\n",
      "\n",
      "# we have API credentials (NOTE: KEEP YOUR SECRET KEY SECURE!!!)\n",
      "cat ~/.boto"
     ],
     "language": "python",
     "metadata": {},
     "outputs": []
    },
    {
     "cell_type": "markdown",
     "metadata": {},
     "source": [
      "##1. Connect to ![](files/icons/StorageContentDelivery/S3.svg) S3 (Simple Storage Service)"
     ]
    },
    {
     "cell_type": "code",
     "collapsed": false,
     "input": [
      "import boto\n",
      "\n",
      "# connect to the s3 service using API credentials in ~/.boto\n",
      "s3 = boto.connect_s3()\n",
      "s3"
     ],
     "language": "python",
     "metadata": {},
     "outputs": []
    },
    {
     "cell_type": "markdown",
     "metadata": {},
     "source": [
      "##2. Create a ![bucket](files/icons/StorageContentDelivery/S3Bucket.svg) Bucket"
     ]
    },
    {
     "cell_type": "code",
     "collapsed": false,
     "input": [
      "# create a new s3 bucket\n",
      "bucket = s3.create_bucket(\"jacks_photo_album\")\n",
      "bucket"
     ],
     "language": "python",
     "metadata": {},
     "outputs": []
    },
    {
     "cell_type": "markdown",
     "metadata": {},
     "source": [
      "##3. Put an ![object](files/icons/StorageContentDelivery/S3Objects.svg) Object <img src=\"files/images/jackandmom.gif\" style=\"width: 128px;\" /> in our new Bucket."
     ]
    },
    {
     "cell_type": "code",
     "collapsed": false,
     "input": [
      "# create a key for the object\n",
      "key = bucket.new_key(\"Me and Mom\")\n",
      "\n",
      "key.set_contents_from_file(file(\"images/jackandmom.gif\"))\n",
      "key.make_public()                 # public URL\n",
      "s3_url = key.generate_url(20*60)  # good for 20 minutes\n",
      "\n",
      "key, s3_url"
     ],
     "language": "python",
     "metadata": {},
     "outputs": []
    },
    {
     "cell_type": "markdown",
     "metadata": {},
     "source": [
      "##4. Retrieve the Object  from the Bucket ![bucketwithobjects](files/icons/StorageContentDelivery/S3BucketwithObjects.svg)"
     ]
    },
    {
     "cell_type": "code",
     "collapsed": false,
     "input": [
      "# get the key again (even though we had it)\n",
      "key = bucket.get_key(\"Me and Mom\")\n",
      "\n",
      "# then get the image to a file\n",
      "with open('images/jackandmom_from_s3.gif', 'w') as f:\n",
      "  key.get_contents_to_file(f)\n",
      "\n",
      "# or use the URL we made\n",
      "from IPython.display import Image\n",
      "Image(url=s3_url)\n"
     ],
     "language": "python",
     "metadata": {},
     "outputs": []
    },
    {
     "cell_type": "markdown",
     "metadata": {},
     "source": [
      "##5. Cleanup"
     ]
    },
    {
     "cell_type": "code",
     "collapsed": false,
     "input": [
      "# delete the key.\n",
      "print 'deleting key...'\n",
      "key.delete()\n",
      "\n",
      "# delete the bucket.\n",
      "print 'deleting bucket...'\n",
      "bucket.delete()\n",
      "\n",
      "# close our connection\n",
      "print 'closing connection...'\n",
      "s3.close()\n",
      "\n",
      "s3, bucket, key"
     ],
     "language": "python",
     "metadata": {},
     "outputs": []
    },
    {
     "cell_type": "markdown",
     "metadata": {
      "slideshow": {
       "slide_type": "slide"
      }
     },
     "source": [
      "# ![ec2](files/icons/ComputeNetworking/EC2.svg) Creating an Amazon Linux VM"
     ]
    },
    {
     "cell_type": "markdown",
     "metadata": {},
     "source": [
      "##0a. ![ec2](files/icons/ComputeNetworking/EC2.svg) Connect to Elastic Cloud Compute (EC2) in desired region (e.g. us-west-2)"
     ]
    },
    {
     "cell_type": "code",
     "collapsed": false,
     "input": [
      "import boto\n",
      "\n",
      "boto.connect_ec2()\n",
      "# connect to the us-west-2 region\n",
      "us_west_2 = filter(lambda r: r.name == 'us-west-2',  boto.ec2.regions())[0]\n",
      "ec2 = us_west_2.connect()\n",
      "\n",
      "ec2"
     ],
     "language": "python",
     "metadata": {},
     "outputs": []
    },
    {
     "cell_type": "markdown",
     "metadata": {},
     "source": [
      "##0b. Prerequisite: Create an SSH Key Pair (to secure our instance)"
     ]
    },
    {
     "cell_type": "code",
     "collapsed": false,
     "input": [
      "%%bash\n",
      "rm -f ec2_via_boto.pem"
     ],
     "language": "python",
     "metadata": {},
     "outputs": []
    },
    {
     "cell_type": "code",
     "collapsed": false,
     "input": [
      "# create an SSH key pair\n",
      "my_key_pair = 'ec2_via_boto'\n",
      "try:\n",
      "    ec2.delete_key_pair(my_key_pair)\n",
      "except: pass\n",
      "kp_demo = ec2.create_key_pair(my_key_pair)\n",
      "\n",
      "with file('./ec2_via_boto.pem', 'w') as f:\n",
      "    f.write(kp_demo.material)"
     ],
     "language": "python",
     "metadata": {},
     "outputs": []
    },
    {
     "cell_type": "code",
     "collapsed": false,
     "input": [
      "%%bash\n",
      "ls -l ec2_via_boto.pem\n",
      "# change permissions\n",
      "chmod 400 ec2_via_boto.pem\n",
      "ls -l ec2_via_boto.pem"
     ],
     "language": "python",
     "metadata": {},
     "outputs": []
    },
    {
     "cell_type": "code",
     "collapsed": true,
     "input": [
      "cat ec2_via_boto.pem"
     ],
     "language": "python",
     "metadata": {},
     "outputs": []
    },
    {
     "cell_type": "markdown",
     "metadata": {},
     "source": [
      "##0c. Create a Security Group (Collection of Access Rules) (to secure our instance)"
     ]
    },
    {
     "cell_type": "code",
     "collapsed": false,
     "input": [
      "try:\n",
      "    ec2.delete_security_group('sg_awsdemo')\n",
      "except: pass\n",
      "sg_demo = ec2.create_security_group('sg_awsdemo', 'Our Demo Group')\n",
      "sg_demo.authorize('tcp', 22, 22, '0.0.0.0/0')"
     ],
     "language": "python",
     "metadata": {},
     "outputs": []
    },
    {
     "cell_type": "markdown",
     "metadata": {},
     "source": [
      "##1. ![ec2](files/icons/ComputeNetworking/EC2AMI.svg)  Select an Amazon Machine Image (e.g. ![alinux](files/images/alinux.png) 64 bit Linux)"
     ]
    },
    {
     "cell_type": "markdown",
     "metadata": {},
     "source": [
      ">\"The Amazon Linux AMI is an EBS-backed, PV-GRUB image. It includes Linux 3.4, AWS tools, and repository access to multiple versions of MySQL, PostgreSQL, Python, Ruby, and Tomcat.\""
     ]
    },
    {
     "cell_type": "code",
     "collapsed": false,
     "input": [
      "amazon_linux = ec2.get_image('ami-4c1c847c')"
     ],
     "language": "python",
     "metadata": {},
     "outputs": []
    },
    {
     "cell_type": "markdown",
     "metadata": {},
     "source": [
      "##2. Launch it"
     ]
    },
    {
     "cell_type": "code",
     "collapsed": false,
     "input": [
      "# using our newly minted key pair and security group \n",
      "reservation = amazon_linux.run(key_name=my_key_pair, \n",
      "                               security_groups=[sg_demo], \n",
      "                               user_data=\"\"\"Dear Jack, watch out for Giants!\"\"\", \n",
      "                               instance_type='m1.small')\n"
     ],
     "language": "python",
     "metadata": {},
     "outputs": []
    },
    {
     "cell_type": "markdown",
     "metadata": {},
     "source": [
      "##2. Wait until it's ready"
     ]
    },
    {
     "cell_type": "code",
     "collapsed": false,
     "input": [
      "instance = reservation.instances[0]\n",
      "instance.update()\n",
      "\n",
      "print instance.state, instance.public_dns_name"
     ],
     "language": "python",
     "metadata": {},
     "outputs": []
    },
    {
     "cell_type": "markdown",
     "metadata": {},
     "source": [
      "##3. Login using Key Pair"
     ]
    },
    {
     "cell_type": "code",
     "collapsed": false,
     "input": [
      "with file('./ssh_to_new_instance.sh', 'w') as f:\n",
      "    f.write(\"\"\"\n",
      "#!/bin/bash\n",
      "ssh -i ./ec2_via_boto.pem ec2-user@%s\n",
      "\"\"\" % instance.public_dns_name)"
     ],
     "language": "python",
     "metadata": {},
     "outputs": []
    },
    {
     "cell_type": "code",
     "collapsed": false,
     "input": [
      "%%bash\n",
      "chmod 755 ./ssh_to_new_instance.sh\n",
      "cat ./ssh_to_new_instance.sh"
     ],
     "language": "python",
     "metadata": {},
     "outputs": []
    },
    {
     "cell_type": "raw",
     "metadata": {},
     "source": [
      "$ ./ssh_to_new_instance.sh \n",
      "The authenticity of host 'ec2-54-201-1-186.us-west-2.compute.amazonaws.com (54.201.1.186)' can't be established.\n",
      "RSA key fingerprint is 93:82:78:07:ec:60:32:da:11:cf:2f:cb:c7:a6:3e:1e.\n",
      "Are you sure you want to continue connecting (yes/no)? yes\n",
      "Warning: Permanently added 'ec2-54-201-1-186.us-west-2.compute.amazonaws.com,54.201.1.186' (RSA) to the list of known hosts.\n",
      "\n",
      "       __|  __|_  )\n",
      "       _|  (     /   Amazon Linux AMI\n",
      "      ___|\\___|___|\n",
      "\n",
      "https://aws.amazon.com/amazon-linux-ami/2013.09-release-notes/\n",
      "5 package(s) needed for security, out of 31 available\n",
      "Run \"sudo yum update\" to apply all updates.\n",
      "[ec2-user@ip-172-31-16-119 ~]$ \n",
      "\n"
     ]
    },
    {
     "cell_type": "markdown",
     "metadata": {},
     "source": [
      "##4. Cleanup"
     ]
    },
    {
     "cell_type": "code",
     "collapsed": false,
     "input": [
      "# delete key pair\n",
      "kp_demo.delete()\n",
      "\n",
      "# terminate instance\n",
      "instance.terminate()\n",
      "instance.update()\n",
      "\n",
      "print instance.state, instance.public_dns_name"
     ],
     "language": "python",
     "metadata": {},
     "outputs": []
    },
    {
     "cell_type": "code",
     "collapsed": false,
     "input": [
      "# delete security group\n",
      "sg_demo.delete()"
     ],
     "language": "python",
     "metadata": {},
     "outputs": []
    },
    {
     "cell_type": "code",
     "collapsed": false,
     "input": [
      "rm -f ssh_to_new_instance.sh ec2_via_boto.pem"
     ],
     "language": "python",
     "metadata": {},
     "outputs": []
    }
   ],
   "metadata": {}
  }
 ]
}