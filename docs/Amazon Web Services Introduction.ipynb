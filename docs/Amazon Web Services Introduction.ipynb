{
 "metadata": {
  "name": ""
 },
 "nbformat": 3,
 "nbformat_minor": 0,
 "worksheets": [
  {
   "cells": [
    {
     "cell_type": "markdown",
     "metadata": {},
     "source": [
      "# A Pay-As-You-Go Tour of Amazon's Web Services\n",
      "\n",
      "<br/>\n",
      "<br/>\n",
      "\n",
      "<table border=\"0\">\n",
      "    <tr border=\"0\">\n",
      "        <td border=\"0\"><img src=\"files/images/river.jpeg\" style=\"width: 570px;\" /></td>\n",
      "        <td border=\"0\"><img src=\"files/images/boto.jpg\" style=\"width: 512px;\" /></td>\n",
      "        <!--td border=\"0\"><img src=\"files/images/botoleaping.jpg\" style=\"width: 512px;\" /></td-->\n",
      "    </tr>\n",
      "    <tr>\n",
      "        <td>*\"The River Sea\"*</td>\n",
      "        <td>*Boto Dolphin: A Denizen of Deep* <br/>(Alternate Caption: Same Day Delivery??)</td>\n",
      "    </tr>\n",
      "</table>\n",
      "\n",
      "<br/>\n",
      "<br/>\n",
      "<br/>\n",
      "<br/>\n",
      "<br/>\n",
      "<br/>\n"
     ]
    },
    {
     "cell_type": "markdown",
     "metadata": {},
     "source": [
      "#Welcome and Introduction\n",
      "\n",
      "##1. Amazon Web Services: Introduction and \"Why You Should Care\"\n",
      "<img src=\"files/icons/AppServices/CloudSearch.svg\" style=\"width: 64px;\" />\n",
      "<img src=\"files/icons/AppServices/ElasticTranscoder.svg\" style=\"width: 64px;\"  />\n",
      "<img src=\"files/icons/AppServices/SES.svg\" style=\"width: 64px;\"  />\n",
      "<img src=\"files/icons/AppServices/SNS.svg\" style=\"width: 64px;\"  />\n",
      "<img src=\"files/icons/AppServices/SQS.svg\" style=\"width: 64px;\"  />\n",
      "<img src=\"files/icons/AppServices/SWF.svg\" style=\"width: 64px;\"  />\n",
      "<img src=\"files/icons/ComputeNetworking/EC2.svg\" style=\"width: 64px;\"  />\n",
      "<img src=\"files/icons/ComputeNetworking/EMR.svg\" style=\"width: 64px;\"  />\n",
      "<img src=\"files/icons/ComputeNetworking/VPC.svg\" style=\"width: 64px;\"  />\n",
      "<img src=\"files/icons/Database/DynamoDB.svg\" style=\"width: 64px;\"  />\n",
      "<img src=\"files/icons/Database/ElasticCache.svg\" style=\"width: 64px;\"  />\n",
      "<img src=\"files/icons/Database/RDS.svg\" style=\"width: 64px;\"  />\n",
      "<img src=\"files/icons/Database/SimpleDB.svg\" style=\"width: 64px;\"  />\n",
      "<img src=\"files/icons/DeploymentManagement/CloudFormation.svg\" style=\"width: 64px;\"  />\n",
      "<img src=\"files/icons/DeploymentManagement/CloudWatch.svg\" style=\"width: 64px;\"  />\n",
      "<img src=\"files/icons/DeploymentManagement/DataPipeline.svg\" style=\"width: 64px;\"  />\n",
      "<img src=\"files/icons/DeploymentManagement/ElasticBeanstalk.svg\" style=\"width: 64px;\"  />\n",
      "<img src=\"files/icons/DeploymentManagement/IAM.svg\" style=\"width: 64px;\"  />\n",
      "<img src=\"files/icons/StorageContentDelivery/CloudFront.svg\" style=\"width: 64px;\">\n",
      "<img src=\"files/icons/StorageContentDelivery/Glacier.svg\" style=\"width: 64px;\">\n",
      "<img src=\"files/icons/StorageContentDelivery/S3.svg\" style=\"width: 64px;\">\n",
      "\n",
      "##2. Getting Started:  Hello S3 and EC2 via Boto\n",
      "\n",
      "#\"Hello\"\n",
      "<img src=\"files/icons/ComputeNetworking/EC2.svg\" style=\"width: 128px;\"  />\n",
      "<img src=\"files/icons/StorageContentDelivery/S3.svg\" style=\"width: 128px;\">\n",
      "\n",
      "\n",
      "##3. A Fuller Example: 'Amondawa' Time Series Datastore on DynamoDB and Elastic Beanstalk\n",
      "<img src=\"files/images/amondawaclock.jpg\" style=\"width: 256px\" /> \n",
      "<img src=\"files/icons/Database/DynamoDB.svg\" style=\"width: 128px;\"  />\n",
      "<img src=\"files/icons/DeploymentManagement/ElasticBeanstalk.svg\" style=\"width: 128px;\"  />\n",
      "\n",
      "<br/><br/><br/><br/><br/><br/>"
     ]
    },
    {
     "cell_type": "markdown",
     "metadata": {
      "slideshow": {
       "slide_type": "slide"
      }
     },
     "source": [
      "#![console](files/icons/General/AWSManagementConsole.svg) Amazon Web Services Console\n",
      "\n",
      "![infra](files/images/console.png)"
     ]
    },
    {
     "cell_type": "markdown",
     "metadata": {},
     "source": [
      "#How Else Can They Be Accessed?\n",
      "\n",
      "##<img src=\"files/icons/SDKs/AWSToolkitforEclipse.svg\" style=\"width: 64px\"> <img src=\"files/icons/SDKs/AWSToolkitforVisualStudio.svg\" style=\"width: 64px\"> <img src=\"files/icons/SDKs/ToolsforWindowsPowerShell.svg\" style=\"width: 64px\"> Eclipse, Visual Studio, Powershell\n",
      "##<img src=\"files/icons/SDKs/CLI.svg\" style=\"width: 64px\"> Command Line Interface\n",
      "\n",
      "##<img src=\"files/icons/SDKs/Android.svg\" style=\"width: 64px\"><img src=\"files/icons/SDKs/iOS.svg\" style=\"width: 64px\"> Android, iOS\n",
      "##<img src=\"files/icons/SDKs/Java.svg\" style=\"width: 64px\"><img src=\"files/icons/SDKs/Net.svg\" style=\"width: 64px\"> <img src=\"files/icons/SDKs/nodeJS.svg\" style=\"width: 64px\"><img src=\"files/icons/SDKs/PHP.svg\" style=\"width: 64px\"><img src=\"files/icons/SDKs/Python.svg\" style=\"width: 64px\"><img src=\"files/icons/SDKs/Ruby.svg\" style=\"width: 64px\"> Java, .Net, nodeJS, PHP, Python!, Ruby\n",
      "\n",
      "<br/>\n",
      "<br/>\n",
      "<br/>\n",
      "<br/>\n",
      "<br/>\n",
      "<br/>\n",
      "<br/>\n",
      "<br/>\n",
      "<br/>\n",
      "<br/>\n",
      "<br/>\n",
      "<br/>\n",
      "<br/>\n",
      "<br/>\n"
     ]
    },
    {
     "cell_type": "markdown",
     "metadata": {},
     "source": [
      "#AWS Global Footprint\n",
      "\n",
      "<img src=\"files/images/globalfootprint2.png\" style=\"width: 720px;\" />\n",
      "<br/><br/><br/><br/><br/><br/><br/>"
     ]
    },
    {
     "cell_type": "markdown",
     "metadata": {},
     "source": [
      "# AWS  Availability Zones: Fault Isolation within A Region\n",
      "## __Regions and Availability Zones__  \n",
      "\n",
      "- US East (Northern Virginia) Region  (5 Zones)\n",
      "- US West (Oregon) Region (3 Zones)\n",
      "- US West (Northern California) Region  (3 Zones)\n",
      "- EU (Ireland) Region  (3 Zones)\n",
      "- Asia Pacific (Singapore) Region  (2 Zones) \n",
      "- Asia Pacific (Sydney) Region  (2 Zones)\n",
      "- Asia Pacific (Tokyo) Region  (3 Zones)\n",
      "- South America (Sao Paulo)  Region  (2 Zones)\n",
      "\n",
      "![infra](files/images/infra.png)"
     ]
    },
    {
     "cell_type": "markdown",
     "metadata": {},
     "source": [
      "#Elasticity\n",
      "<img src=\"files/images/capvdemand.png\" style=\"width: 1024px;\" />"
     ]
    },
    {
     "cell_type": "markdown",
     "metadata": {},
     "source": [
      "#Economies of Scale\n",
      "\n",
      "##Price Reductions\n",
      "\n",
      "<img src=\"files/images/pricedrop.png\" style=\"width: 1024px;\" />\n",
      "\n",
      "\n",
      "##Amazonian Scale\n",
      "\n",
      "###\"Every day, AWS adds enough new server capacity to support all of Amazons Global infrastructure in the company's fifth year of operation, when it was a $2.76B annual revenue enterprise.\"\n",
      "\n",
      "<br/><br/><br/><br/><br/><br/><br/><br/><br/><br/><br/>"
     ]
    },
    {
     "cell_type": "markdown",
     "metadata": {},
     "source": [
      "#Hello S3 and EC2 via Boto Demo\n",
      "\n",
      "<br/>\n",
      "<br/>\n",
      "<br/>\n",
      "<br/>\n",
      "<br/>\n",
      "<br/>\n",
      "<br/>\n",
      "<br/>\n",
      "<br/>\n",
      "<br/>\n",
      "<br/>\n",
      "\n",
      "\n",
      "#\"Hello\" <img src=\"files/icons/StorageContentDelivery/S3.svg\" style=\"width: 128px;\"> <img src=\"files/icons/ComputeNetworking/EC2.svg\" style=\"width: 128px;\"  /> \n",
      "\n",
      "<br/>\n",
      "<br/>\n",
      "<br/>\n",
      "<br/>\n",
      "<br/>\n",
      "<br/>\n",
      "<br/>\n",
      "<br/>\n",
      "<br/>\n",
      "<br/>\n",
      "\n"
     ]
    },
    {
     "cell_type": "markdown",
     "metadata": {},
     "source": [
      "#  ![eb](files/icons/DeploymentManagement/ElasticBeanstalk.svg) Elastic Beanstalk: Orchestration and Management for Web Applications\n",
      "\n",
      "![eblc](files/images/eblc.gif)\n",
      "\n",
      "## Hands Free Resource Definition, Creation, Management to a Templated Architecture\n",
      "## Developer Thinks about Application, not AWS Resources \n",
      "   ### Build and Deploy WSGI Web Application in Python, Java, PHP, .Net\n",
      "## Application Versioning, Monitoring\n",
      "## Complete Access (e.g. Login) to Underlying Beanstalk Managed Resources \n",
      "### for advanced Customization, Debugging\n",
      "\n",
      "<br/><br/><br/><br/><br/>\n",
      "<!--\n",
      "icons//DeploymentManagement/ElasticBeanstalk.svg\n",
      "icons//DeploymentManagement/ElasticBeanstalkApplication.svg\n",
      "icons//DeploymentManagement/ElasticBeanstalkDeployment.svg\n",
      "-->"
     ]
    },
    {
     "cell_type": "markdown",
     "metadata": {},
     "source": [
      "#![eb](files/icons/DeploymentManagement/ElasticBeanstalk.svg) Elastic Beanstalk  Architecture\n",
      "\n",
      "<br/>\n",
      "<img src=\"files/images/aeb-architecture2.gif\" style=\"width: 768px;\" />\n",
      "<br/><br/><br/>"
     ]
    },
    {
     "cell_type": "markdown",
     "metadata": {},
     "source": [
      "#'Amondawa' Time Series Datastore Demo\n",
      "\n",
      "<br/>\n",
      "<br/>\n",
      "<br/>\n",
      "<br/>\n",
      "<br/>\n",
      "<br/>\n",
      "<br/>\n",
      "<br/>\n",
      "<br/>\n",
      "<br/>\n",
      "<br/>\n",
      "<br/>\n",
      "<br/>\n",
      "\n",
      "<img src=\"files/images/amondawaclock.jpg\" style=\"width: 256px\" /> \n",
      "<img src=\"files/icons/Database/DynamoDB.svg\" style=\"width: 128px;\"  />\n",
      "<img src=\"files/icons/DeploymentManagement/ElasticBeanstalk.svg\" style=\"width: 128px;\"  />\n",
      "\n",
      "\n",
      "<br/>\n",
      "<br/>\n",
      "<br/>\n",
      "<br/>\n",
      "<br/>\n",
      "<br/>\n",
      "<br/>\n",
      "<br/>\n",
      "<br/>\n",
      "<br/>\n",
      "\n"
     ]
    },
    {
     "cell_type": "markdown",
     "metadata": {},
     "source": [
      "#![eb](files/icons/DeploymentManagement/ElasticBeanstalk.svg) Elastic Beanstalk Environment Types\n",
      "\n",
      "## Web Server Tier: Main Application Workload\n",
      "## Worker Tier: Background or Longer Running Batch Tasks (e.g. sending email, maintenance tasks)\n",
      "<br/>\n",
      "<img src=\"files/images/aeb-architecture_worker.gif\" style=\"width: 768px;\" />\n",
      "<br/>"
     ]
    },
    {
     "cell_type": "markdown",
     "metadata": {},
     "source": [
      "<!--\n",
      "# [Amazon Web Services Economics](http://aws.amazon.com/economics/)\n",
      "\n",
      "\n",
      "- ##\"Replace up-front capital expense with low variable cost.\" \n",
      "   *You don't need to build IT yourself.*\n",
      "- ##\"Massive economies of scale and efficiency gains allow Amazon to continually lower prices.\" \n",
      "  *Rising tide floats all boats. Everyone benefits from continuous innovation and cost reduction.*\n",
      "- ##\"Multiple pricing models allow you to optimize costs for both variable and stable workloads.\" \n",
      "  *Choose your pricing: on-demand, reserved, spot.*\n",
      "- ##Cloud computing drives down IT labor costs both up-front and on an on-going basis.\n",
      "  *Put people to work building business services and applications - not IT infrastructure.*\n",
      "- ##AWS offers a premium security spec at non-premium prices.\n",
      "  *Security features aren't add-on - they are integral to the design and function of each service.*\n",
      "- ##AWS allows customer workloads to be highly available for a fraction of the cost of self-hosting.\n",
      "  *Availability Zones and Regions allow a service to span datacenters at the click of a mouse.*\n",
      "- ##With AWS, you save more as you grow bigger.\n",
      "  *Tiered pricing,  19 independent price reductions over time.*\n",
      "  -->"
     ]
    }
   ],
   "metadata": {}
  }
 ]
}