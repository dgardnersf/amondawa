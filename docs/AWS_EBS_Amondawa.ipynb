{
 "metadata": {
  "name": ""
 },
 "nbformat": 3,
 "nbformat_minor": 0,
 "worksheets": [
  {
   "cells": [
    {
     "cell_type": "markdown",
     "metadata": {},
     "source": [
      "# Swimming with Dolphins... in the Amazon\n",
      "# (A Pay-As-You-Go Tour of Amazon's Web Services)\n",
      "\n",
      "<br/>\n",
      "<br/>\n",
      "\n",
      "<table border=\"0\">\n",
      "    <tr border=\"0\">\n",
      "        <td border=\"0\"><img src=\"files/images/river.jpeg\" style=\"width: 570px;\" /></td>\n",
      "        <td border=\"0\"><img src=\"files/images/boto.jpg\" style=\"width: 512px;\" /></td>\n",
      "        <!--td border=\"0\"><img src=\"files/images/botoleaping.jpg\" style=\"width: 512px;\" /></td-->\n",
      "    </tr>\n",
      "    <tr>\n",
      "        <td>*\"The River Sea\"*</td>\n",
      "        <td>*Boto Dolphin: A Denizen of Deep* <br/>(Alternate Caption: Same Day Delivery??)</td>\n",
      "    </tr>\n",
      "</table>\n",
      "\n",
      "<br/>\n",
      "<br/>\n",
      "<br/>\n",
      "<br/>\n",
      "<br/>\n",
      "<br/>\n"
     ]
    },
    {
     "cell_type": "markdown",
     "metadata": {},
     "source": [
      "# [Amazon Web Services Economics](http://aws.amazon.com/economics/)\n",
      "\n",
      "\n",
      "- ##\"Replace up-front capital expense with low variable cost.\" \n",
      "   *You don't need to build IT yourself.*\n",
      "- ##\"Massive economies of scale and efficiency gains allow Amazon to continually lower prices.\" \n",
      "  *Rising tide floats all boats. Everyone benefits from continuous innovation and cost reduction.*\n",
      "- ##\"Multiple pricing models allow you to optimize costs for both variable and stable workloads.\" \n",
      "  *Choose your pricing: on-demand, reserved, spot.*\n",
      "- ##Cloud computing drives down IT labor costs both up-front and on an on-going basis.\n",
      "  *Put people to work building business services and applications - not IT infrastructure.*\n",
      "- ##AWS offers a premium security spec at non-premium prices.\n",
      "  *Security features aren't add-on - they are integral to the design and function of each service.*\n",
      "- ##AWS allows customer workloads to be highly available for a fraction of the cost of self-hosting.\n",
      "  *Availability Zones and Regions allow a service to span datacenters at the click of a mouse.*\n",
      "- ##With AWS, you save more as you grow bigger.\n",
      "  *Tiered pricing,  19 independent price reductions over time.*"
     ]
    },
    {
     "cell_type": "markdown",
     "metadata": {},
     "source": [
      "# Amazon Web Services Global Infrastructure\n",
      "## __Regions and Availability Zones__  \n",
      "\n",
      "- US East (Northern Virginia) Region  (5 Zones)\n",
      "- US West (Oregon) Region (3 Zones)\n",
      "- US West (Northern California) Region  (3 Zones)\n",
      "- EU (Ireland) Region  (3 Zones)\n",
      "- Asia Pacific (Singapore) Region  (2 Zones) \n",
      "- Asia Pacific (Sydney) Region  (2 Zones)\n",
      "- Asia Pacific (Tokyo) Region  (3 Zones)\n",
      "- South America (Sao Paulo)  Region  (2 Zones)\n",
      "\n",
      "![infra](files/images/infra.png)"
     ]
    },
    {
     "cell_type": "markdown",
     "metadata": {
      "slideshow": {
       "slide_type": "slide"
      }
     },
     "source": [
      "#![console](files/icons/General/AWSManagementConsole.svg) Amazon Web Services Console (26 Services)\n",
      "\n",
      "![infra](files/images/console.png)"
     ]
    },
    {
     "cell_type": "markdown",
     "metadata": {
      "slideshow": {
       "slide_type": "slide"
      }
     },
     "source": [
      "#Today: Concentrate on Elastic Beanstalk and Touch on Others (7/26) Services\n",
      "<img src=\"files/images/shighlight.png\" style=\"width: 1712px;\" />"
     ]
    },
    {
     "cell_type": "markdown",
     "metadata": {
      "slideshow": {
       "slide_type": "slide"
      }
     },
     "source": [
      "#![cloud](files/icons/General/AWSCloud.svg) Hello Amazon Cloud! (Boto Style)"
     ]
    },
    {
     "cell_type": "markdown",
     "metadata": {},
     "source": [
      "##0. Prerequisites"
     ]
    },
    {
     "cell_type": "code",
     "collapsed": false,
     "input": [
      "ls -l ~/.boto"
     ],
     "language": "python",
     "metadata": {},
     "outputs": []
    },
    {
     "cell_type": "code",
     "collapsed": false,
     "input": [
      "%%bash\n",
      "\n",
      "# we have API credentials (NOTE: KEEP YOUR SECRET KEY SECURE!!!)\n",
      "cat ~/.boto"
     ],
     "language": "python",
     "metadata": {},
     "outputs": []
    },
    {
     "cell_type": "markdown",
     "metadata": {},
     "source": [
      "##1. Connect to ![](files/icons/StorageContentDelivery/S3.svg) S3 (Simple Storage Service)"
     ]
    },
    {
     "cell_type": "code",
     "collapsed": false,
     "input": [
      "import boto, time\n",
      "\n",
      "# connect to the s3 service using API credentials in ~/.boto\n",
      "s3 = boto.connect_s3()\n",
      "s3"
     ],
     "language": "python",
     "metadata": {},
     "outputs": []
    },
    {
     "cell_type": "markdown",
     "metadata": {},
     "source": [
      "##2. Create a ![bucket](files/icons/StorageContentDelivery/S3Bucket.svg) Bucket"
     ]
    },
    {
     "cell_type": "code",
     "collapsed": false,
     "input": [
      "# create a new s3 bucket\n",
      "bucket = s3.create_bucket(\"jacks_stuff\")\n",
      "bucket"
     ],
     "language": "python",
     "metadata": {},
     "outputs": []
    },
    {
     "cell_type": "markdown",
     "metadata": {},
     "source": [
      "##3. Put an ![object](files/icons/StorageContentDelivery/S3Objects.svg) Object in our new Bucket."
     ]
    },
    {
     "cell_type": "code",
     "collapsed": false,
     "input": [
      "# create a key for the object\n",
      "key = bucket.new_key(\"Jack's Beans\")\n",
      "\n",
      "key.set_contents_from_string(\"A Good Trade\")\n",
      "\n",
      "key"
     ],
     "language": "python",
     "metadata": {},
     "outputs": []
    },
    {
     "cell_type": "markdown",
     "metadata": {},
     "source": [
      "##4. Retrieve the Object  from the Bucket ![bucketwithobjects](files/icons/StorageContentDelivery/S3BucketwithObjects.svg)"
     ]
    },
    {
     "cell_type": "code",
     "collapsed": false,
     "input": [
      "# get the key again (even though we had it)\n",
      "key = bucket.get_key(\"Jack's Beans\")\n",
      "\n",
      "key.get_contents_as_string()"
     ],
     "language": "python",
     "metadata": {},
     "outputs": []
    },
    {
     "cell_type": "markdown",
     "metadata": {},
     "source": [
      "##5. Cleanup"
     ]
    },
    {
     "cell_type": "code",
     "collapsed": false,
     "input": [
      "# delete the key.\n",
      "print 'deleting key...'\n",
      "key.delete()\n",
      "\n",
      "# delete the bucket.\n",
      "print 'deleting bucket...'\n",
      "bucket.delete()\n",
      "\n",
      "# close our connection\n",
      "print 'closing connection...'\n",
      "s3.close()\n",
      "\n",
      "s3, bucket, key"
     ],
     "language": "python",
     "metadata": {},
     "outputs": []
    },
    {
     "cell_type": "markdown",
     "metadata": {
      "slideshow": {
       "slide_type": "slide"
      }
     },
     "source": [
      "# ![ec2](files/icons/ComputeNetworking/EC2.svg) Creating an Amazon Linux VM"
     ]
    },
    {
     "cell_type": "markdown",
     "metadata": {},
     "source": [
      "##0a. ![ec2](files/icons/ComputeNetworking/EC2.svg) Connect to Elastic Cloud Compute (EC2) in desired region (e.g. us-west-2)"
     ]
    },
    {
     "cell_type": "code",
     "collapsed": false,
     "input": [
      "import boto\n",
      "\n",
      "boto.connect_ec2()\n",
      "# connect to the us-west-2 region\n",
      "us_west_2 = filter(lambda r: r.name == 'us-west-2',  boto.ec2.regions())[0]\n",
      "ec2 = us_west_2.connect()\n",
      "\n",
      "ec2"
     ],
     "language": "python",
     "metadata": {},
     "outputs": []
    },
    {
     "cell_type": "markdown",
     "metadata": {},
     "source": [
      "##0b. Prerequisite: Create an SSH Key Pair (to secure our instance)"
     ]
    },
    {
     "cell_type": "code",
     "collapsed": false,
     "input": [
      "%%bash\n",
      "rm -f ec2_via_boto.pem"
     ],
     "language": "python",
     "metadata": {},
     "outputs": []
    },
    {
     "cell_type": "code",
     "collapsed": false,
     "input": [
      "# create an SSH key pair\n",
      "my_key_pair = 'ec2_via_boto'\n",
      "try:\n",
      "    ec2.delete_key_pair(my_key_pair)\n",
      "except: pass\n",
      "kp_demo = ec2.create_key_pair(my_key_pair)\n",
      "\n",
      "with file('./ec2_via_boto.pem', 'w') as f:\n",
      "    f.write(kp_demo.material)"
     ],
     "language": "python",
     "metadata": {},
     "outputs": []
    },
    {
     "cell_type": "code",
     "collapsed": false,
     "input": [
      "%%bash\n",
      "ls -l ec2_via_boto.pem\n",
      "# change permissions\n",
      "chmod 400 ec2_via_boto.pem\n",
      "ls -l ec2_via_boto.pem"
     ],
     "language": "python",
     "metadata": {},
     "outputs": []
    },
    {
     "cell_type": "code",
     "collapsed": true,
     "input": [
      "cat ec2_via_boto.pem"
     ],
     "language": "python",
     "metadata": {},
     "outputs": []
    },
    {
     "cell_type": "markdown",
     "metadata": {},
     "source": [
      "##0c. Create a Security Group (Collection of Access Rules) (to secure our instance)"
     ]
    },
    {
     "cell_type": "code",
     "collapsed": false,
     "input": [
      "try:\n",
      "    ec2.delete_security_group('sg_awsdemo')\n",
      "except: pass\n",
      "sg_demo = ec2.create_security_group('sg_awsdemo', 'Our Demo Group')\n",
      "sg_demo.authorize('tcp', 22, 22, '0.0.0.0/0')"
     ],
     "language": "python",
     "metadata": {},
     "outputs": []
    },
    {
     "cell_type": "markdown",
     "metadata": {},
     "source": [
      "##1. ![ec2](files/icons/ComputeNetworking/EC2AMI.svg)  Select an Amazon Machine Image (e.g. ![alinux](files/images/alinux.png) 64 bit Linux)"
     ]
    },
    {
     "cell_type": "markdown",
     "metadata": {},
     "source": [
      ">\"The Amazon Linux AMI is an EBS-backed, PV-GRUB image. It includes Linux 3.4, AWS tools, and repository access to multiple versions of MySQL, PostgreSQL, Python, Ruby, and Tomcat.\""
     ]
    },
    {
     "cell_type": "code",
     "collapsed": false,
     "input": [
      "amazon_linux = ec2.get_image('ami-4c1c847c')"
     ],
     "language": "python",
     "metadata": {},
     "outputs": []
    },
    {
     "cell_type": "markdown",
     "metadata": {},
     "source": [
      "##2. Launch it"
     ]
    },
    {
     "cell_type": "code",
     "collapsed": false,
     "input": [
      "# using our newly minted key pair and security group \n",
      "reservation = amazon_linux.run(key_name=my_key_pair, \n",
      "                               security_groups=[sg_demo], \n",
      "                               user_data=\"\"\"Dear Jack, watch out for Giants!\"\"\", \n",
      "                               instance_type='m1.small')\n"
     ],
     "language": "python",
     "metadata": {},
     "outputs": []
    },
    {
     "cell_type": "markdown",
     "metadata": {},
     "source": [
      "##2. Wait until it's ready"
     ]
    },
    {
     "cell_type": "code",
     "collapsed": false,
     "input": [
      "instance = reservation.instances[0]\n",
      "instance.update()\n",
      "\n",
      "print instance.state, instance.public_dns_name"
     ],
     "language": "python",
     "metadata": {},
     "outputs": []
    },
    {
     "cell_type": "markdown",
     "metadata": {},
     "source": [
      "##3. Login using Key Pair"
     ]
    },
    {
     "cell_type": "code",
     "collapsed": false,
     "input": [
      "with file('./ssh_to_new_instance.sh', 'w') as f:\n",
      "    f.write(\"\"\"\n",
      "#!/bin/bash\n",
      "ssh -i ./ec2_via_boto.pem ec2-user@%s\n",
      "\"\"\" % instance.public_dns_name)"
     ],
     "language": "python",
     "metadata": {},
     "outputs": []
    },
    {
     "cell_type": "code",
     "collapsed": false,
     "input": [
      "%%bash\n",
      "chmod 755 ./ssh_to_new_instance.sh\n",
      "cat ./ssh_to_new_instance.sh"
     ],
     "language": "python",
     "metadata": {},
     "outputs": []
    },
    {
     "cell_type": "raw",
     "metadata": {},
     "source": [
      "$ ./ssh_to_new_instance.sh \n",
      "The authenticity of host 'ec2-54-201-1-186.us-west-2.compute.amazonaws.com (54.201.1.186)' can't be established.\n",
      "RSA key fingerprint is 93:82:78:07:ec:60:32:da:11:cf:2f:cb:c7:a6:3e:1e.\n",
      "Are you sure you want to continue connecting (yes/no)? yes\n",
      "Warning: Permanently added 'ec2-54-201-1-186.us-west-2.compute.amazonaws.com,54.201.1.186' (RSA) to the list of known hosts.\n",
      "\n",
      "       __|  __|_  )\n",
      "       _|  (     /   Amazon Linux AMI\n",
      "      ___|\\___|___|\n",
      "\n",
      "https://aws.amazon.com/amazon-linux-ami/2013.09-release-notes/\n",
      "5 package(s) needed for security, out of 31 available\n",
      "Run \"sudo yum update\" to apply all updates.\n",
      "[ec2-user@ip-172-31-16-119 ~]$ \n",
      "\n"
     ]
    },
    {
     "cell_type": "markdown",
     "metadata": {},
     "source": [
      "##4. Cleanup"
     ]
    },
    {
     "cell_type": "code",
     "collapsed": false,
     "input": [
      "# delete key pair\n",
      "kp_demo.delete()\n",
      "\n",
      "# terminate instance\n",
      "instance.terminate()\n",
      "instance.update()\n",
      "\n",
      "print instance.state, instance.public_dns_name"
     ],
     "language": "python",
     "metadata": {},
     "outputs": []
    },
    {
     "cell_type": "code",
     "collapsed": false,
     "input": [
      "# delete security group\n",
      "sg_demo.delete()"
     ],
     "language": "python",
     "metadata": {},
     "outputs": []
    },
    {
     "cell_type": "markdown",
     "metadata": {},
     "source": [
      "# ![cf](files/icons/DeploymentManagement/CloudFormation.svg) CloudFormation:  Orchestrated Resource Creation\n",
      "## - Atomicity: a Resource Collection  ![](files/icons/DeploymentManagement/CloudFormationStack.svg) \"Stack\" is created and Managed as a unit\n",
      "## - From Imperative (e.g. Python Script) -> To Declarative JSON  ![](files/icons/DeploymentManagement/CloudFormationTemplate.svg) Template\n",
      "## - Declaritve Dependencies: e.g. wait for Server1 and S3 Bucket1 to start before starting Server2 (no more sleeping)\n",
      "## - Parameterized Templates: (Appliances) Change instance count and type based on Prod/ Sub Prod\n",
      "## - Runtime Maintenance: Modify the template after stack launch and reconcile running stacks\n",
      "\n",
      "<br/><br/><br/><br/><br/><br/><br/><br/>"
     ]
    },
    {
     "cell_type": "markdown",
     "metadata": {},
     "source": [
      "#  ![eb](files/icons/DeploymentManagement/ElasticBeanstalk.svg) Elastic Beanstalk: Orchestration and Management for Web Applications\n",
      "\n",
      "![eblc](files/images/eblc.gif)\n",
      "\n",
      "## Hands Free Resource Definition, Creation, Management to a Templated Architecture\n",
      "## Developer Thinks about Application, not AWS Resources \n",
      "   ### Build and Deploy WSGI Web Application in Python, Java, PHP, .Net\n",
      "## Application Versioning, Monitoring\n",
      "## Complete Access (e.g. Login) to Underlying Beanstalk Managed Resources \n",
      "### for advanced Customization, Debugging\n",
      "\n",
      "<br/><br/><br/><br/><br/>\n",
      "<!--\n",
      "icons//DeploymentManagement/ElasticBeanstalk.svg\n",
      "icons//DeploymentManagement/ElasticBeanstalkApplication.svg\n",
      "icons//DeploymentManagement/ElasticBeanstalkDeployment.svg\n",
      "-->"
     ]
    },
    {
     "cell_type": "markdown",
     "metadata": {},
     "source": [
      "#![eb](files/icons/DeploymentManagement/ElasticBeanstalk.svg) Elastic Beanstalk  Architecture\n",
      "\n",
      "<br/>\n",
      "<img src=\"files/images/aeb-architecture2.gif\" style=\"width: 768px;\" />\n",
      "<br/><br/><br/><br/><br/><br/>"
     ]
    },
    {
     "cell_type": "markdown",
     "metadata": {},
     "source": [
      "#![eb](files/icons/DeploymentManagement/ElasticBeanstalk.svg) Elastic Beanstalk Environment Types\n",
      "\n",
      "## Web Server Tier: Main Application Workload\n",
      "## Worker Tier: Background or Longer Running Batch Tasks (e.g. sending email, maintenance tasks)\n",
      "<br/>\n",
      "<img src=\"files/images/aeb-architecture_worker.gif\" style=\"width: 768px;\" />\n",
      "<br/>"
     ]
    },
    {
     "cell_type": "markdown",
     "metadata": {},
     "source": [
      "# Amondawa \n",
      "## A KariosDB/openTSDB Inspired TSDB on AWS  ![eba](files/icons/DeploymentManagement/ElasticBeanstalkApplication.svg) + ![dynamo](files/icons/Database/DynamoDB.svg) + <img src=\"files/images/pandas_logo.png\" style=\"width: 200px;\" />\n",
      "\n",
      "###When time is not space: The social and linguistic construction of time intervals and temporal event relations in an Amazonian culture\n",
      "> \"Amondawa does not recruit its extensive inventory of terms and constructions for spatial motion and location to express temporal relations. Amondawa also lacks a numerically based calendric system. To account for these data, and in opposition to a Universal Space-Time Mapping Hypothesis, we propose a Mediated Mapping Hypothesis, which accords causal importance to the numerical and artefact-based construction of time-based (as opposed to event-based) time interval systems.\" **Language and Cognition. Volume 3, Issue 1, Pages 137\u2013169, ISSN (Online) 1866-9859, ISSN (Print) 1866-9808, DOI: 10.1515/langcog.2011.006, April 2011**\n",
      "\n",
      "###BBC News\n",
      "> \"Amondawa tribe lacks abstract idea of time, study says\"\n",
      "> - **Jason Palmer**\n",
      "> - **Science and technology reporter, BBC News**\n",
      "\n",
      "<table border=\"0\">\n",
      "    <tr border=\"0\">\n",
      "        <td border=\"0\">\n",
      "        <img src=\"files/images/amondawaclock.jpg\" style=\"height: 200px; width: 512px;\" /><br/><img src=\"files/images/opentsdbplot.png\" style=\"height: 200px; width: 512px;\" />\n",
      "        </td>\n",
      "        <td border=\"0\"><img src=\"files/images/amondawapeople.jpg\" style=\"width: 512px;\" /></td>\n",
      "    </tr>\n",
      "</table>\n"
     ]
    },
    {
     "cell_type": "markdown",
     "metadata": {},
     "source": [
      "#Amondawa: Store and Query Time Series Streams\n",
      "\n",
      "<img src=\"files/images/store_datapoints.png\" style=\"width: 1024px\" />\n",
      " \n",
      "\n",
      "\n",
      "<br/>\n",
      "<br/>\n",
      "<br/>\n",
      "<br/>\n",
      "<br/>\n",
      "<br/>\n",
      "<br/>\n",
      "<br/>\n",
      "\n",
      "\n"
     ]
    },
    {
     "cell_type": "markdown",
     "metadata": {},
     "source": []
    },
    {
     "cell_type": "code",
     "collapsed": false,
     "input": [
      "ls .."
     ],
     "language": "python",
     "metadata": {},
     "outputs": []
    },
    {
     "cell_type": "markdown",
     "metadata": {},
     "source": []
    },
    {
     "cell_type": "markdown",
     "metadata": {},
     "source": []
    },
    {
     "cell_type": "markdown",
     "metadata": {},
     "source": []
    },
    {
     "cell_type": "code",
     "collapsed": false,
     "input": [],
     "language": "python",
     "metadata": {},
     "outputs": []
    },
    {
     "cell_type": "code",
     "collapsed": false,
     "input": [],
     "language": "python",
     "metadata": {},
     "outputs": []
    },
    {
     "cell_type": "code",
     "collapsed": false,
     "input": [],
     "language": "python",
     "metadata": {},
     "outputs": []
    },
    {
     "cell_type": "code",
     "collapsed": false,
     "input": [
      "%matplotlib inline"
     ],
     "language": "python",
     "metadata": {
      "slideshow": {
       "slide_type": "slide"
      }
     },
     "outputs": []
    },
    {
     "cell_type": "code",
     "collapsed": false,
     "input": [
      "execfile('bin/amondawa')"
     ],
     "language": "python",
     "metadata": {},
     "outputs": []
    },
    {
     "cell_type": "code",
     "collapsed": false,
     "input": [
      "settings()"
     ],
     "language": "python",
     "metadata": {
      "slideshow": {
       "slide_type": "slide"
      }
     },
     "outputs": []
    },
    {
     "cell_type": "code",
     "collapsed": false,
     "input": [
      "stop()"
     ],
     "language": "python",
     "metadata": {
      "slideshow": {
       "slide_type": "fragment"
      }
     },
     "outputs": []
    },
    {
     "cell_type": "code",
     "collapsed": false,
     "input": [
      "status()"
     ],
     "language": "python",
     "metadata": {},
     "outputs": []
    },
    {
     "cell_type": "code",
     "collapsed": false,
     "input": [
      "streams()"
     ],
     "language": "python",
     "metadata": {},
     "outputs": []
    },
    {
     "cell_type": "code",
     "collapsed": false,
     "input": [
      "pause"
     ],
     "language": "python",
     "metadata": {},
     "outputs": []
    },
    {
     "cell_type": "code",
     "collapsed": false,
     "input": [
      "fig = plt.figure(figsize=(12,4), dpi=100)\n",
      "query()"
     ],
     "language": "python",
     "metadata": {},
     "outputs": []
    },
    {
     "cell_type": "code",
     "collapsed": false,
     "input": [
      "%autocall 2\n"
     ],
     "language": "python",
     "metadata": {},
     "outputs": []
    }
   ],
   "metadata": {}
  }
 ]
}